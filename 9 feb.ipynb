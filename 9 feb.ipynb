{
 "cells": [
  {
   "cell_type": "markdown",
   "id": "2ed26ce9-a027-4243-99b5-1923a760bc13",
   "metadata": {},
   "source": [
    "Q1, Create a vehicle class with an init method having instance variables as name_of_vehicle, max_speed and average_of_vehicle."
   ]
  },
  {
   "cell_type": "code",
   "execution_count": 16,
   "id": "67fc0420-3e23-4530-8436-d260384077f1",
   "metadata": {},
   "outputs": [],
   "source": [
    "class vehical:\n",
    "    def __init__(self,name,max_speed,average_of_vehicle):\n",
    "        self.name=name\n",
    "        self.max_speed1=max_speed\n",
    "        self.average_of_vehical1=average_of_vehicle"
   ]
  },
  {
   "cell_type": "code",
   "execution_count": 17,
   "id": "b55a9bbd-d7d1-4d0a-b841-64fc601721f6",
   "metadata": {},
   "outputs": [],
   "source": [
    "details=vehical(\"yamaha\",200,100)"
   ]
  },
  {
   "cell_type": "code",
   "execution_count": 18,
   "id": "3f8bf18b-984e-4a34-ac2b-d320e4ef8a03",
   "metadata": {},
   "outputs": [
    {
     "data": {
      "text/plain": [
       "'yamaha'"
      ]
     },
     "execution_count": 18,
     "metadata": {},
     "output_type": "execute_result"
    }
   ],
   "source": [
    "details.name"
   ]
  },
  {
   "cell_type": "code",
   "execution_count": 19,
   "id": "f92210fd-137f-4cc2-b96a-20cd52eae67b",
   "metadata": {},
   "outputs": [
    {
     "data": {
      "text/plain": [
       "200"
      ]
     },
     "execution_count": 19,
     "metadata": {},
     "output_type": "execute_result"
    }
   ],
   "source": [
    "details.max_speed1"
   ]
  },
  {
   "cell_type": "code",
   "execution_count": 20,
   "id": "f7887f94-fa7e-4d59-9443-7b0a1d70eaaf",
   "metadata": {},
   "outputs": [
    {
     "data": {
      "text/plain": [
       "100"
      ]
     },
     "execution_count": 20,
     "metadata": {},
     "output_type": "execute_result"
    }
   ],
   "source": [
    "details.average_of_vehical1"
   ]
  },
  {
   "cell_type": "markdown",
   "id": "86de0b29-7a48-40f4-9108-d331619a001f",
   "metadata": {},
   "source": [
    "Q2. Create a child class car from the vehicle class created in Que 1, which will inherit the vehicle class.\n",
    "Create a method named seating_capacity which takes capacity as an argument and returns the name of\n",
    "the vehicle and its seating capacity."
   ]
  },
  {
   "cell_type": "code",
   "execution_count": 27,
   "id": "77c44adb-50e7-41bb-bfc0-b72ee44e64c2",
   "metadata": {},
   "outputs": [],
   "source": [
    "class car(vehical):\n",
    "    def seating_capacity(self,capacity):\n",
    "        self.capacity=capacity\n",
    "        return self.capacity,self.name\n",
    "    "
   ]
  },
  {
   "cell_type": "code",
   "execution_count": 31,
   "id": "840f1de4-21d3-49cd-8640-6c37d6f680fb",
   "metadata": {},
   "outputs": [],
   "source": [
    "bike=car(\"yamaha\",200,100)"
   ]
  },
  {
   "cell_type": "code",
   "execution_count": 32,
   "id": "0423a5e1-b9c2-4bb2-9ab6-f6e2ac47dea7",
   "metadata": {},
   "outputs": [
    {
     "data": {
      "text/plain": [
       "'yamaha'"
      ]
     },
     "execution_count": 32,
     "metadata": {},
     "output_type": "execute_result"
    }
   ],
   "source": [
    "bike.name"
   ]
  },
  {
   "cell_type": "code",
   "execution_count": 37,
   "id": "0c7f197e-1532-4f2b-836f-aa54561fd51e",
   "metadata": {},
   "outputs": [
    {
     "data": {
      "text/plain": [
       "(4, 'yamaha')"
      ]
     },
     "execution_count": 37,
     "metadata": {},
     "output_type": "execute_result"
    }
   ],
   "source": [
    "bike.seating_capacity(4)"
   ]
  },
  {
   "cell_type": "code",
   "execution_count": 38,
   "id": "4c28b27b-39d5-4239-ab12-3db3c54fffd7",
   "metadata": {},
   "outputs": [],
   "source": [
    "class car(vehical):\n",
    "    def seating_capacity(self,capacity):\n",
    "        self.capacity=capacity\n",
    "        print(f'bike capacity is {self.capacity} and name is {self.name}')\n",
    "    "
   ]
  },
  {
   "cell_type": "code",
   "execution_count": 39,
   "id": "4ff8e5c5-f12a-4c96-8cc0-47f324a2b749",
   "metadata": {},
   "outputs": [
    {
     "data": {
      "text/plain": [
       "(5, 'yamaha')"
      ]
     },
     "execution_count": 39,
     "metadata": {},
     "output_type": "execute_result"
    }
   ],
   "source": [
    "bike.seating_capacity(5)"
   ]
  },
  {
   "cell_type": "markdown",
   "id": "731a462f-8bb1-4914-adce-048276d42ef2",
   "metadata": {},
   "source": [
    "Q3 -What is multiple inheritance? Write a python code to demonstrate multiple inheritance."
   ]
  },
  {
   "cell_type": "markdown",
   "id": "23befe77-9101-4a65-9fd5-f3f5b789c686",
   "metadata": {},
   "source": [
    "When a class is derived from more than one base class it is called multiple Inheritance. The derived class inherits all the features of the base case.\n"
   ]
  },
  {
   "cell_type": "code",
   "execution_count": 40,
   "id": "223104e7-9e82-45a1-81b1-0aedc3885b86",
   "metadata": {},
   "outputs": [
    {
     "name": "stdout",
     "output_type": "stream",
     "text": [
      "This is father class\n",
      "This is mother class\n",
      "This is child class\n"
     ]
    }
   ],
   "source": [
    "class father:\n",
    "    def father_def(self):\n",
    "        print('This is father class')\n",
    "class mother():\n",
    "    def mother_def(self):\n",
    "        print('This is mother class')\n",
    "class child(father,mother):\n",
    "    def child_def(self):\n",
    "        print('This is child class')\n",
    "obj = child()\n",
    "obj.father_def()\n",
    "obj.mother_def()\n",
    "obj.child_def()"
   ]
  },
  {
   "cell_type": "markdown",
   "id": "4125a3bd-ecaa-490b-abd9-1dc8754ca447",
   "metadata": {},
   "source": [
    "Q4. What are getter and setter in python? Create a class and create a getter and a setter method in this class."
   ]
  },
  {
   "cell_type": "markdown",
   "id": "7f7bb69d-9441-412f-b856-d2780a5f7a6b",
   "metadata": {},
   "source": [
    "For the purpose of data encapsulation, most object oriented languages use getters and setters method. This is because we want to hide the attributes of a object class from other classes so that no accidental modification of the data happens by methods in other classes.\n",
    "\n",
    "As the name suggests, getters are the methods which help access the private attributes or get the value of the private attributes and setters are the methods which help change or set the value of private attributes."
   ]
  },
  {
   "cell_type": "code",
   "execution_count": 41,
   "id": "d25be9d5-353d-4e4d-8195-6876303eb1de",
   "metadata": {},
   "outputs": [
    {
     "name": "stdout",
     "output_type": "stream",
     "text": [
      "setter method called\n",
      "getter method called\n",
      "10\n"
     ]
    }
   ],
   "source": [
    "class aging:\n",
    "    def __init__(self):\n",
    "        self._age = 0\n",
    "\n",
    "    # function to get value of _age\n",
    "    def get_age(self):\n",
    "        print(\"getter method called\")\n",
    "        return self._age\n",
    "        \n",
    "    # function to set value of _age\n",
    "    def set_age(self, a):\n",
    "        print(\"setter method called\")\n",
    "        self._age = a\n",
    "\n",
    "    # function to delete _age attribute\n",
    "    def del_age(self):\n",
    "        del self._age\n",
    "    \n",
    "    age = property(get_age, set_age, del_age)\n",
    "\n",
    "mark = aging()\n",
    "\n",
    "mark.age = 10\n",
    "\n",
    "print(mark.age)"
   ]
  },
  {
   "cell_type": "markdown",
   "id": "e6928766-20b4-4238-817c-c9f28eed0752",
   "metadata": {},
   "source": [
    "Q5.What is method overriding in python? Write a python code to demonstrate method overriding."
   ]
  },
  {
   "cell_type": "markdown",
   "id": "35091f52-1fdb-4247-8f1c-95644c0c2889",
   "metadata": {},
   "source": [
    "Method overriding is an ability of any object-oriented programming language that allows a subclass or child class to provide a specific implementation of a method that is already provided by one of its super-classes or parent classes. When a method in a subclass has the same name, same parameters or signature and same return type(or sub-type) as a method in its super-class, then the method in the subclass is said to override the method in the super-class."
   ]
  },
  {
   "cell_type": "code",
   "execution_count": null,
   "id": "02e2449b-a97d-4561-9afd-bcfe9f134fc5",
   "metadata": {},
   "outputs": [],
   "source": []
  }
 ],
 "metadata": {
  "kernelspec": {
   "display_name": "Python 3 (ipykernel)",
   "language": "python",
   "name": "python3"
  },
  "language_info": {
   "codemirror_mode": {
    "name": "ipython",
    "version": 3
   },
   "file_extension": ".py",
   "mimetype": "text/x-python",
   "name": "python",
   "nbconvert_exporter": "python",
   "pygments_lexer": "ipython3",
   "version": "3.10.8"
  }
 },
 "nbformat": 4,
 "nbformat_minor": 5
}
