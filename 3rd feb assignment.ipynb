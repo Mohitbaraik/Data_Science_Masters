{
 "cells": [
  {
   "cell_type": "markdown",
   "id": "c0cadb74-9c2c-4efd-adda-b26e53e99b80",
   "metadata": {},
   "source": [
    "#Q1. Which keyword is used to create a function? Create a function to return a list of odd numbers in the \n",
    "range of 1 to 25."
   ]
  },
  {
   "cell_type": "markdown",
   "id": "eb118164-8ee1-4727-9544-bec95156f3d4",
   "metadata": {},
   "source": [
    " #ans-def is use to create a function"
   ]
  },
  {
   "cell_type": "code",
   "execution_count": 17,
   "id": "9648cfe0-1077-487a-953f-7ed02de89183",
   "metadata": {},
   "outputs": [
    {
     "data": {
      "text/plain": [
       "[1, 3, 5, 7, 9, 11, 13, 15, 17, 19, 21, 23, 25]"
      ]
     },
     "execution_count": 17,
     "metadata": {},
     "output_type": "execute_result"
    }
   ],
   "source": [
    "def odd_num(number_list):\n",
    "    output = []\n",
    "    for i in number_list:\n",
    "        if i % 2 != 0:\n",
    "            output.append(i)\n",
    "    return output\n",
    "\n",
    "odd_num([i for i in range(0,26)])"
   ]
  },
  {
   "cell_type": "markdown",
   "id": "c6b3331e-7896-4a93-9074-898f0045a77a",
   "metadata": {},
   "source": [
    "#Q2. Why *args and **kwargs is used in some functions? Create a function each for *args and **kwargs to \n",
    "demonstrate their use"
   ]
  },
  {
   "cell_type": "markdown",
   "id": "cc653b1b-5fca-4281-8691-1cb2fc9ae07a",
   "metadata": {},
   "source": [
    "#ans-args is used to pass infinite number of str,int,list or etc as parameter to a function while *kwargs is used to pass infinite number of key and value as pair as parameter to function"
   ]
  },
  {
   "cell_type": "code",
   "execution_count": 20,
   "id": "3ca9d7e2-0bc5-4fd8-8ddf-b7bb9ffd5377",
   "metadata": {},
   "outputs": [
    {
     "name": "stdout",
     "output_type": "stream",
     "text": [
      "*args: (1, 2, 3, (4, 5, 6), ['a', 'b', 'c'], {1: 'a', 2: 'b', 3: 'c'})\n",
      "**kwargs: {'a': 'pw', 'b': (1, 2, 3), 'c': [4, 5, 6], 'd': {'a': 'z', 'b': 'y'}}\n"
     ]
    }
   ],
   "source": [
    "def test1(*args):\n",
    "    return args\n",
    "print(\"*args:\" , test1(1,2,3,(4,5,6),['a','b','c'],{1:'a',2:'b',3:'c'}))\n",
    "\n",
    "def test2(**kwargs):\n",
    "    return kwargs\n",
    "print(\"**kwargs:\", test2(a='pw',b=(1,2,3),c=[4,5,6],d={'a':'z','b':'y'}))"
   ]
  },
  {
   "cell_type": "markdown",
   "id": "1206ec16-677a-4f43-b974-0b68d4096963",
   "metadata": {},
   "source": [
    "#Q3.  What is an iterator in python? Name the method used to initialise the iterator object and the method \n",
    "used for iteration. Use these methods to print the first five elements of the given list [2, 4, 6, 8, 10, 12, 14, 16, \n",
    "18, 20]"
   ]
  },
  {
   "cell_type": "markdown",
   "id": "1a76ecda-3349-4cd1-88c7-a90a11a6f356",
   "metadata": {},
   "source": [
    "#ans-An iterator is an object that contains a countable number of values. An iterator is an object that can be iterated upon, meaning that you can traverse through all the values.\n",
    "\n",
    "to initialize iterator iter() method is used while for iteration next() method is used."
   ]
  },
  {
   "cell_type": "code",
   "execution_count": 21,
   "id": "52dbde66-fdf9-49ca-ab4c-8cd4275cd0e5",
   "metadata": {},
   "outputs": [
    {
     "name": "stdout",
     "output_type": "stream",
     "text": [
      "2\n",
      "4\n",
      "6\n",
      "8\n",
      "10\n"
     ]
    }
   ],
   "source": [
    "number = [i for i in range(1,21) if i%2==0]\n",
    "iterator = iter(number)\n",
    "for i in range(0,5):\n",
    "    val = next(iterator)\n",
    "    print(val)"
   ]
  },
  {
   "cell_type": "markdown",
   "id": "c05e4486-ec26-4e4b-93f0-2b8eab2c68db",
   "metadata": {},
   "source": [
    "#Q4.  What is a generator function in python? Why yield keyword is used? Give an example of a generator \n",
    "function"
   ]
  },
  {
   "cell_type": "markdown",
   "id": "5d2d3164-61ee-4299-823a-203f2f3c0fcf",
   "metadata": {},
   "source": [
    "Generator is function that returns an iterator that produces sequence of value where it iterated, it is useful when we want to produce large sequence of value."
   ]
  },
  {
   "cell_type": "code",
   "execution_count": 22,
   "id": "38678365-fd08-41ee-a0ca-6f554ddf8474",
   "metadata": {},
   "outputs": [
    {
     "name": "stdout",
     "output_type": "stream",
     "text": [
      "<generator object even_num at 0x7f0e2851a030>\n",
      "2\n",
      "4\n",
      "6\n",
      "8\n",
      "10\n"
     ]
    }
   ],
   "source": [
    "def even_num(num_list):\n",
    "    for i in num_list:\n",
    "        if i%2 == 0:\n",
    "            yield i\n",
    "    return i\n",
    "x = even_num([i for i in range(1,11)])\n",
    "print(x)\n",
    "for i in x:\n",
    "    print(i)"
   ]
  },
  {
   "cell_type": "markdown",
   "id": "8e7013d7-0bc8-4010-a1e1-95ce197fdf9b",
   "metadata": {},
   "source": [
    "Q5. Create a generator function for prime numbers less than 1000. Use the next() method to print the first 20 prime numbers."
   ]
  },
  {
   "cell_type": "code",
   "execution_count": null,
   "id": "69cecffb-2221-4ad2-85bb-daa5fa7dc594",
   "metadata": {},
   "outputs": [],
   "source": []
  }
 ],
 "metadata": {
  "kernelspec": {
   "display_name": "Python 3 (ipykernel)",
   "language": "python",
   "name": "python3"
  },
  "language_info": {
   "codemirror_mode": {
    "name": "ipython",
    "version": 3
   },
   "file_extension": ".py",
   "mimetype": "text/x-python",
   "name": "python",
   "nbconvert_exporter": "python",
   "pygments_lexer": "ipython3",
   "version": "3.10.8"
  }
 },
 "nbformat": 4,
 "nbformat_minor": 5
}
