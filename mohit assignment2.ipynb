{
 "cells": [
  {
   "cell_type": "code",
   "execution_count": 2,
   "id": "72dbea12-0dce-4f14-8779-8b19556acdde",
   "metadata": {},
   "outputs": [],
   "source": [
    "#ans-"
   ]
  },
  {
   "cell_type": "code",
   "execution_count": 3,
   "id": "a76b4cc1-0235-407e-9b0b-4dc222be8837",
   "metadata": {},
   "outputs": [
    {
     "name": "stdin",
     "output_type": "stream",
     "text": [
      "Enter the marks of student=  56\n"
     ]
    },
    {
     "name": "stdout",
     "output_type": "stream",
     "text": [
      "Student pass with D Grade \n"
     ]
    }
   ],
   "source": [
    "marks=int(input(\"Enter the marks of student= \"))\n",
    "if marks>90:\n",
    "    print(\"Student pass with A Grade \")\n",
    "elif marks >80 and marks<=90:\n",
    "    print(\"Student pass with B Grade \")\n",
    "elif marks>=60 and marks<=80:\n",
    "    print(\"Student pass with C Grade \")\n",
    "else:\n",
    "    print(\"Student pass with D Grade \")"
   ]
  },
  {
   "cell_type": "code",
   "execution_count": 4,
   "id": "3d29162d-deae-43fb-add0-62c99b802f7e",
   "metadata": {},
   "outputs": [],
   "source": [
    "#ans-2"
   ]
  },
  {
   "cell_type": "code",
   "execution_count": 5,
   "id": "761eec85-0b22-4697-9587-6ba55c9366e7",
   "metadata": {},
   "outputs": [
    {
     "name": "stdin",
     "output_type": "stream",
     "text": [
      "Enter the cost of Bike =  34000\n"
     ]
    },
    {
     "name": "stdout",
     "output_type": "stream",
     "text": [
      "Road tax will be = 1700.0\n"
     ]
    }
   ],
   "source": [
    "cost_prise=int(input(\"Enter the cost of Bike = \"))\n",
    "if cost_prise>100000:\n",
    "    tax= cost_prise*(15/100)\n",
    "    print(f\"Road tax will be = {tax}\")\n",
    "elif cost_prise>50000 and cost_prise<=100000:\n",
    "    tax= cost_prise*(10/100)\n",
    "    print(f\"Road tax will be = {tax}\")\n",
    "elif cost_prise<=50000:\n",
    "    tax= cost_prise*(5/100)\n",
    "    print(f\"Road tax will be = {tax}\")"
   ]
  },
  {
   "cell_type": "code",
   "execution_count": 12,
   "id": "c80be93a-dbaa-4083-89f3-5bb78f600aa3",
   "metadata": {},
   "outputs": [],
   "source": [
    "#ans-3"
   ]
  },
  {
   "cell_type": "code",
   "execution_count": 13,
   "id": "98b76c9e-b72f-43f8-b172-681f37c55522",
   "metadata": {},
   "outputs": [
    {
     "name": "stdin",
     "output_type": "stream",
     "text": [
      "enter your city name  delhi\n"
     ]
    },
    {
     "name": "stdout",
     "output_type": "stream",
     "text": [
      "red fort\n"
     ]
    }
   ],
   "source": [
    "at=input(\"enter your city name \")\n",
    "if at==\"delhi\":\n",
    "    print(\"red fort\")\n",
    "elif at ==\"agra\":\n",
    "    print(\"taj mahal\")\n",
    "elif at ==\"jaipur\":\n",
    "    print(\"jal mahal\")\n",
    "else:\n",
    "    print(\"sorry your city monuments name is not register\")"
   ]
  },
  {
   "cell_type": "markdown",
   "id": "ff29edd2-41c7-413e-9ff4-8038562ea58b",
   "metadata": {},
   "source": [
    "## check how many  times a given number can be divided by 3 before it is less than or equal to 10."
   ]
  },
  {
   "cell_type": "code",
   "execution_count": 32,
   "id": "d5761ad2-0a0a-4681-9826-4643f500d47a",
   "metadata": {},
   "outputs": [
    {
     "name": "stdin",
     "output_type": "stream",
     "text": [
      "enter any number 45\n"
     ]
    },
    {
     "name": "stdout",
     "output_type": "stream",
     "text": [
      "number of iteration is 2\n"
     ]
    }
   ],
   "source": [
    "a=int(input(\"enter any number\"))\n",
    "count=0\n",
    "while a>10:\n",
    "    a=a/3\n",
    "    count+=1\n",
    "print(\"number of iteration is\",count)"
   ]
  },
  {
   "cell_type": "markdown",
   "id": "c9a48b75-46bb-4509-8e47-d0b85f405d41",
   "metadata": {},
   "source": [
    "Q5 Why and when to use while loop in python give a detailed description with example."
   ]
  },
  {
   "cell_type": "markdown",
   "id": "29b11e7e-140d-4d2b-8a17-9b515511a78e",
   "metadata": {},
   "source": [
    "ans-In Python, The while loop statement repeatedly executes a code block while a particular condition is true. When the condition becomes false, execution comes out of the loop immediately, and the first statement after the while loop is executed."
   ]
  },
  {
   "cell_type": "code",
   "execution_count": 1,
   "id": "46f609fc-3d2c-4848-aedc-6b1c1508639e",
   "metadata": {},
   "outputs": [
    {
     "name": "stdout",
     "output_type": "stream",
     "text": [
      "1\n",
      "2\n",
      "3\n",
      "4\n"
     ]
    }
   ],
   "source": [
    "# example\n",
    "count=1\n",
    "while count<5:\n",
    "    print(count)\n",
    "    count+=1\n"
   ]
  },
  {
   "cell_type": "markdown",
   "id": "a856c85e-2c00-4ff9-82a8-666f4479ed25",
   "metadata": {},
   "source": [
    "Q6 Use nested while loop to print 3 diffrent pattern"
   ]
  },
  {
   "cell_type": "code",
   "execution_count": 2,
   "id": "514ebbb1-dbb0-4bc8-a60e-7e3189ae113b",
   "metadata": {},
   "outputs": [
    {
     "name": "stdout",
     "output_type": "stream",
     "text": [
      "*****\n",
      "****\n",
      "***\n",
      "**\n",
      "*\n"
     ]
    }
   ],
   "source": [
    "i = 5\n",
    "while i > 0:\n",
    "    j = i\n",
    "    while j > 0:\n",
    "        print('*',end='')\n",
    "        j = j -1\n",
    "    print('')\n",
    "    i = i-1\n",
    "    "
   ]
  },
  {
   "cell_type": "code",
   "execution_count": 3,
   "id": "677c97d5-da4a-441f-ac54-12abbaffaa03",
   "metadata": {},
   "outputs": [
    {
     "name": "stdout",
     "output_type": "stream",
     "text": [
      "        * \n",
      "       * * \n",
      "      * * * \n",
      "     * * * * \n",
      "    * * * * * \n",
      "   * * * * * * \n",
      "  * * * * * * * \n"
     ]
    }
   ],
   "source": [
    "i=1\n",
    "while i<8:\n",
    "    j=0\n",
    "    print((8-i)*' ', end=' ')\n",
    "    while j<i:\n",
    "        print('*', end=' ')\n",
    "        j+=1\n",
    "    print('')\n",
    "    i+=1"
   ]
  },
  {
   "cell_type": "code",
   "execution_count": 4,
   "id": "a82153eb-e866-4e55-aa63-fa1f5b5c654d",
   "metadata": {},
   "outputs": [
    {
     "name": "stdout",
     "output_type": "stream",
     "text": [
      "* \n",
      "* * \n",
      "* * * \n",
      "* * * * \n",
      "* * * * * \n",
      "* * * * * * \n",
      "* * * * * * * \n"
     ]
    }
   ],
   "source": [
    "i=1\n",
    "while i<8:\n",
    "    j=0\n",
    "    while j<i:\n",
    "        print('*', end=' ')\n",
    "        j+=1\n",
    "    print('')\n",
    "    i+=1"
   ]
  },
  {
   "cell_type": "markdown",
   "id": "cc00ffb2-406d-4cdd-963d-de3961df89a8",
   "metadata": {},
   "source": [
    "Q7 Reverse a while loop to display numbers from 10 to 1."
   ]
  },
  {
   "cell_type": "code",
   "execution_count": 5,
   "id": "89af4699-0efd-4e76-b322-6f3f583b6dba",
   "metadata": {},
   "outputs": [
    {
     "name": "stdout",
     "output_type": "stream",
     "text": [
      "10 9 8 7 6 5 4 3 2 1 "
     ]
    }
   ],
   "source": [
    "i=10\n",
    "while i>=1:\n",
    "    print(i, end=' ')\n",
    "    i-=1"
   ]
  },
  {
   "cell_type": "markdown",
   "id": "d6ca4539-ccfe-4793-bc91-48ad2826dc29",
   "metadata": {},
   "source": [
    "Q7 Reverse a while loop to display numbers from 10 to 1."
   ]
  },
  {
   "cell_type": "code",
   "execution_count": 6,
   "id": "6844ac2d-0566-446b-9563-b6bdbb49e487",
   "metadata": {},
   "outputs": [
    {
     "name": "stdout",
     "output_type": "stream",
     "text": [
      "10 9 8 7 6 5 4 3 2 1 "
     ]
    }
   ],
   "source": [
    "i=10\n",
    "while i>=1:\n",
    "    print(i, end=' ')\n",
    "    i-=1"
   ]
  },
  {
   "cell_type": "code",
   "execution_count": null,
   "id": "92091452-59bc-4d95-8cf5-3cafa616d5c0",
   "metadata": {},
   "outputs": [],
   "source": []
  }
 ],
 "metadata": {
  "kernelspec": {
   "display_name": "Python 3 (ipykernel)",
   "language": "python",
   "name": "python3"
  },
  "language_info": {
   "codemirror_mode": {
    "name": "ipython",
    "version": 3
   },
   "file_extension": ".py",
   "mimetype": "text/x-python",
   "name": "python",
   "nbconvert_exporter": "python",
   "pygments_lexer": "ipython3",
   "version": "3.10.8"
  }
 },
 "nbformat": 4,
 "nbformat_minor": 5
}
