{
 "cells": [
  {
   "cell_type": "markdown",
   "id": "8bb1af54-e27e-4a99-8782-b095e6657598",
   "metadata": {},
   "source": [
    "Q1. What are the characteristics of the tuples? Is tuple immutable?"
   ]
  },
  {
   "cell_type": "markdown",
   "id": "a1be306b-2ae0-47ba-ab82-e661d6667d94",
   "metadata": {},
   "source": [
    "ans-Characteristics of Tuples : 1) They are indexed. 2) Tuples are ordered. 3) These are immutable. 4)They can contain duplicate items.\n",
    "\n",
    "Yes Tuple is Immutabe."
   ]
  },
  {
   "cell_type": "markdown",
   "id": "cc89b6c0-bc7c-41ec-8b14-d1477e7833a6",
   "metadata": {},
   "source": [
    "Q2. What are the two tuple methods in python? Give an example of each method. Give a reason why tuples have only two in-built methods as compared to Lists."
   ]
  },
  {
   "cell_type": "markdown",
   "id": "58e3edc7-7fc4-4666-8179-a53faa55e940",
   "metadata": {},
   "source": [
    " ans-There are two tuple methods: 1) count() 2) index()"
   ]
  },
  {
   "cell_type": "code",
   "execution_count": 1,
   "id": "e00e01be-dbbc-45b6-a9b6-1573230ed92f",
   "metadata": {},
   "outputs": [
    {
     "name": "stdout",
     "output_type": "stream",
     "text": [
      "2\n",
      "8\n"
     ]
    }
   ],
   "source": [
    "input_tuple = (0,1,2,3,3,4,5,6,7,8,9,10)\n",
    "print(input_tuple.count(3))\n",
    "print(input_tuple.index(7))"
   ]
  },
  {
   "cell_type": "markdown",
   "id": "51fefd4a-aa9d-4cbb-936c-f3385496e5d7",
   "metadata": {},
   "source": [
    "As list is mutable we can change the list elements by passing index but in case of tuples they are immutable and we can't change thier elements by passing indexes. That is why the list has an extra functions like pop(), append(), extend(), insert(), remove() which are not applicable for tuples"
   ]
  },
  {
   "cell_type": "markdown",
   "id": "222dcea0-21aa-4ceb-aa3e-b718aff2910c",
   "metadata": {},
   "source": [
    "Q3. Which collection datatypes in python do not allow duplicate items? Write a code using a set to removeduplicates from the given l ist. List = [1, 1, 1, 2, 1, 3, 1, 4, 2, 1, 2, 2, 2, 3, 2, 4, 3, 1, 3, 2, 3, 3, 3, 4, 4, 1, 4, 2, 4, 3, 4, 4]"
   ]
  },
  {
   "cell_type": "markdown",
   "id": "1bb18468-4b12-4436-8c28-3d2b7e00f7a1",
   "metadata": {},
   "source": [
    " ans-In python set is a data structure which not allows duplicate values\n",
    "\n",
    "Below is the code which will remove all the duplicates from the list List"
   ]
  },
  {
   "cell_type": "code",
   "execution_count": 2,
   "id": "63b4bc2a-4c1a-4108-b451-3ba2a5890909",
   "metadata": {},
   "outputs": [
    {
     "data": {
      "text/plain": [
       "[1, 2, 3, 4]"
      ]
     },
     "execution_count": 2,
     "metadata": {},
     "output_type": "execute_result"
    }
   ],
   "source": [
    "input = [1, 1, 1, 2, 1, 3, 1, 4, 2, 1, 2, 2, 2, 3, 2, 4, 3, 1, 3, 2, 3, 3, 3, 4, 4, 1, 4, 2, 4, 3, 4, 4]\n",
    "s = list(set(input))\n",
    "s"
   ]
  },
  {
   "cell_type": "markdown",
   "id": "7d5c1122-6644-4e21-9e8d-6fb6e52ea06e",
   "metadata": {},
   "source": [
    "Q4. Explain the difference between the union() and update() methods for a set. Give an example of each method.\n",
    " ans-The union() method in sets is used to add missing elements and the resultant set will be stored in new set at the new location\n",
    "\n",
    "The update() method is also used to add missing elements in one set but here the new set will be formed at the same location only"
   ]
  },
  {
   "cell_type": "code",
   "execution_count": 3,
   "id": "d4ac3524-8c1b-459f-921c-9351000fc741",
   "metadata": {},
   "outputs": [
    {
     "name": "stdout",
     "output_type": "stream",
     "text": [
      "{2, 3, 8, 9, 'e', 'a', 'c', 'b', 'd'}\n"
     ]
    },
    {
     "data": {
      "text/plain": [
       "{2, 3, 8, 9, 'a', 'b', 'c', 'd', 'e'}"
      ]
     },
     "execution_count": 3,
     "metadata": {},
     "output_type": "execute_result"
    }
   ],
   "source": [
    "s = {9,3,2,8,8}\n",
    "s1 = {'a','b','c','d','e'}\n",
    "print(s.union(s1))\n",
    "s.update(s1)\n",
    "s"
   ]
  },
  {
   "cell_type": "markdown",
   "id": "e4cf89b0-34aa-4cb3-843a-2d7f474a4715",
   "metadata": {},
   "source": [
    "#Q5. What is a dictionary? Give an example. Also, state whether a dictionary is ordered or unordered.\n",
    "# ans-A dictionary contains data in the form of key and value pairs Dictionary is ordered if we want to pop pair from the dictionary we have to pass key related to that pair"
   ]
  },
  {
   "cell_type": "code",
   "execution_count": 4,
   "id": "ef021982-117a-4a6f-9e95-ea0a277290ef",
   "metadata": {},
   "outputs": [
    {
     "name": "stdout",
     "output_type": "stream",
     "text": [
      "3\n",
      "{'Name': 'Adam', 'surname': 'warlock', 9: '3'}\n"
     ]
    }
   ],
   "source": [
    "dictionary = { \"int\" : 3, \"Name\" : \"Adam\", \"surname\" : \"warlock\", 9 : \"3\"}\n",
    "print(dictionary.pop('int'))\n",
    "print(dictionary)"
   ]
  },
  {
   "cell_type": "code",
   "execution_count": 5,
   "id": "1d1ea674-f778-4190-88fd-ee16288c73e3",
   "metadata": {},
   "outputs": [],
   "source": [
    "#Q6. Can we create a nested dictionary? If so, please give an example by creating a simple one-level nested dictionary.\n",
    "# ans-Yes, we can create a nested dictionary by passing the value as another dictionary"
   ]
  },
  {
   "cell_type": "code",
   "execution_count": 6,
   "id": "1f207ab1-99fe-4bdf-baa5-a68752a7b38b",
   "metadata": {},
   "outputs": [
    {
     "data": {
      "text/plain": [
       "{'name': 'Adam',\n",
       " 'surname': 'warlock',\n",
       " 'Address': {'city': 'LA', 'country': 'usa'}}"
      ]
     },
     "execution_count": 6,
     "metadata": {},
     "output_type": "execute_result"
    }
   ],
   "source": [
    "dictionary = {'name':'Adam',\"surname\" : \"warlock\",'Address':{'city':'LA','country':'usa'}}\n",
    "dictionary"
   ]
  },
  {
   "cell_type": "markdown",
   "id": "a47053bc-5666-4dde-8cf8-8194365ebf87",
   "metadata": {},
   "source": [
    "#Q7. Using setdefault() method, create key named topics in the given dictionary and also add the value of the key as this list ['Python', 'Machine Learning’, 'Deep Learning']\n",
    "dict1 = {'language' : 'Python', 'course': 'Data Science Masters'}"
   ]
  },
  {
   "cell_type": "code",
   "execution_count": 7,
   "id": "6de56867-7d85-46d3-b640-401db82c529b",
   "metadata": {},
   "outputs": [
    {
     "data": {
      "text/plain": [
       "{'Language': 'Python',\n",
       " 'Course': 'Data Science Masters',\n",
       " 'topics': ['Python', 'Machine Learning', 'Deep learning']}"
      ]
     },
     "execution_count": 7,
     "metadata": {},
     "output_type": "execute_result"
    }
   ],
   "source": [
    "dict1 = {\"Language\" : \"Python\", \"Course\" : \"Data Science Masters\" }\n",
    "dict1.setdefault(\"topics\", [\"Python\", \"Machine Learning\", \"Deep learning\"])\n",
    "dict1"
   ]
  },
  {
   "cell_type": "markdown",
   "id": "5f60ebab-6714-44e7-badf-ae355a88a58b",
   "metadata": {},
   "source": [
    "#Q8. What are the three view objects in dictionaries? Use the three in-built methods in python to display these three view objects for the given dictionary.\n",
    "dict1 = {'Sport': 'Cricket' , 'Teams': ['India', 'Australia', 'England', 'South Africa', 'Sri Lanka', 'New Zealand']}"
   ]
  },
  {
   "cell_type": "code",
   "execution_count": 9,
   "id": "7437ed60-6fe2-4cd1-ad86-6c18304ba554",
   "metadata": {},
   "outputs": [
    {
     "name": "stdout",
     "output_type": "stream",
     "text": [
      "dict_keys(['Language', 'Course', 'topics'])\n",
      "dict_values(['Python', 'Data Science Masters', ['Python', 'Machine Learning', 'Deep learning']])\n",
      "dict_items([('Language', 'Python'), ('Course', 'Data Science Masters'), ('topics', ['Python', 'Machine Learning', 'Deep learning'])])\n"
     ]
    }
   ],
   "source": [
    "print(dict1.keys())\n",
    "print(dict1.values())\n",
    "print(dict1.items())"
   ]
  },
  {
   "cell_type": "code",
   "execution_count": null,
   "id": "ff9fa1f9-7640-41d9-a542-c3897ca84f70",
   "metadata": {},
   "outputs": [],
   "source": []
  }
 ],
 "metadata": {
  "kernelspec": {
   "display_name": "Python 3 (ipykernel)",
   "language": "python",
   "name": "python3"
  },
  "language_info": {
   "codemirror_mode": {
    "name": "ipython",
    "version": 3
   },
   "file_extension": ".py",
   "mimetype": "text/x-python",
   "name": "python",
   "nbconvert_exporter": "python",
   "pygments_lexer": "ipython3",
   "version": "3.10.8"
  }
 },
 "nbformat": 4,
 "nbformat_minor": 5
}
