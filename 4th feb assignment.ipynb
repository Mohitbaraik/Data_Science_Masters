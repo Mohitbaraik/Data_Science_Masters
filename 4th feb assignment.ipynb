{
 "cells": [
  {
   "cell_type": "markdown",
   "id": "e46982a7-15aa-4afc-bc27-f8b5c4d230f0",
   "metadata": {},
   "source": [
    "Q1. Create a python program to sort the given list of tuples based on integer value using a lambda function. [('Sachin Tendulkar', 34357), ('Ricky Ponting', 27483), ('Jack Kallis', 25534), ('Virat Kohli', 24936)]"
   ]
  },
  {
   "cell_type": "code",
   "execution_count": 1,
   "id": "118f487e-2daf-44f1-b358-0c294a460c3f",
   "metadata": {},
   "outputs": [
    {
     "data": {
      "text/plain": [
       "[('Virat Kohli', 24936),\n",
       " ('Jack Kallis', 25534),\n",
       " ('Ricky Ponting', 27483),\n",
       " ('Sachin Tendulkar', 34357)]"
      ]
     },
     "execution_count": 1,
     "metadata": {},
     "output_type": "execute_result"
    }
   ],
   "source": [
    "player_list = [('Sachin Tendulkar', 34357), ('Ricky Ponting', 27483), ('Jack Kallis', 25534), ('Virat Kohli', 24936)]\n",
    "list(sorted(player_list,key = lambda x:x[1]))\n"
   ]
  },
  {
   "cell_type": "markdown",
   "id": "02d6943d-9921-42e1-a4ec-bb046f3bbadf",
   "metadata": {},
   "source": [
    "Q2. Write a Python Program to find the squares of all the numbers in the given list of integers using lambda and map functions. [1, 2, 3, 4, 5, 6, 7, 8, 9, 10]"
   ]
  },
  {
   "cell_type": "code",
   "execution_count": 50,
   "id": "d904b89d-d53b-4240-943b-facec677fc32",
   "metadata": {},
   "outputs": [
    {
     "name": "stdout",
     "output_type": "stream",
     "text": [
      "[1]\n",
      "[4]\n",
      "[9]\n",
      "[16]\n",
      "[25]\n",
      "[36]\n",
      "[49]\n",
      "[64]\n",
      "[81]\n",
      "[100]\n"
     ]
    }
   ],
   "source": [
    "list_=lambda a:a*a\n",
    "for i in range(1,11):\n",
    "    b=[]\n",
    "    b.append(list_(i))\n",
    "    print(b)"
   ]
  },
  {
   "cell_type": "code",
   "execution_count": 58,
   "id": "709e9cc3-2214-4fcf-804b-d13b11fcdaec",
   "metadata": {},
   "outputs": [
    {
     "data": {
      "text/plain": [
       "[1, 4, 9, 16, 25, 36, 49, 64, 81, 100]"
      ]
     },
     "execution_count": 58,
     "metadata": {},
     "output_type": "execute_result"
    }
   ],
   "source": [
    "list(map(lambda a:a*a,iterator))"
   ]
  },
  {
   "cell_type": "code",
   "execution_count": 57,
   "id": "9d1c75d9-f6ae-4959-848b-c912846ea28a",
   "metadata": {},
   "outputs": [],
   "source": [
    "iterator=[1,2,3,4,5,6,7,8,9,10]"
   ]
  },
  {
   "cell_type": "markdown",
   "id": "1e81481e-67b4-49a7-b0ec-b612bde1baf8",
   "metadata": {},
   "source": [
    "Q3. Write a python program to convert the given list of integers into a tuple of strings. Use map and\n",
    "lambda functions\n",
    "\n",
    "\n",
    "Given String: [1, 2, 3, 4, 5, 6, 7, 8, 9, 10]\n",
    "\n",
    "Expected output: ('1', '2', '3', '4', '5', '6', '7', '8', '9', '10')"
   ]
  },
  {
   "cell_type": "markdown",
   "id": "d3466e1b-a922-4641-83c4-d138ca5d4543",
   "metadata": {},
   "source": [
    "input_list = [i for i in range(1,11)]\n",
    "ans = []\n",
    "func = lambda ele : f'{ele}'\n",
    "for i in input_list:\n",
    "    ans.append(func(i))\n",
    "print(tuple(ans))\n",
    "\n",
    "#using map\n",
    "print(tuple(map(lambda x:f'{x}',input_list)))"
   ]
  },
  {
   "cell_type": "markdown",
   "id": "827ad586-21ef-462e-8a75-f1450a5ffda6",
   "metadata": {},
   "source": [
    "Q4. Write a python program using reduce function to compute the product of a list containing numbers from 1 to 25."
   ]
  },
  {
   "cell_type": "code",
   "execution_count": 25,
   "id": "7f467a10-b06f-48ca-a829-5991ce9e722f",
   "metadata": {},
   "outputs": [
    {
     "name": "stdout",
     "output_type": "stream",
     "text": [
      "15511210043330985984000000\n"
     ]
    }
   ],
   "source": [
    "import functools\n",
    "input_list = [i for i in range(1,26)]\n",
    "print(functools.reduce(lambda x,y:x*y,input_list))"
   ]
  },
  {
   "cell_type": "code",
   "execution_count": 37,
   "id": "2d4a663d-300e-4e79-9365-e0b8fc5a6cc4",
   "metadata": {},
   "outputs": [
    {
     "data": {
      "text/plain": [
       "15511210043330985984000000"
      ]
     },
     "execution_count": 37,
     "metadata": {},
     "output_type": "execute_result"
    }
   ],
   "source": [
    "functools.reduce(lambda x,y:x*y,l)\n"
   ]
  },
  {
   "cell_type": "code",
   "execution_count": 36,
   "id": "decdfde0-62e7-443e-b3be-1c3f8c999d2a",
   "metadata": {},
   "outputs": [],
   "source": [
    "l=[i for i in range(1,26)]"
   ]
  },
  {
   "cell_type": "markdown",
   "id": "6d70ebe9-071e-4e9f-a6a2-445653ca4381",
   "metadata": {},
   "source": [
    "Q5. Write a python program to filter the numbers in a given list that are divisible by 2 and 3 using the filter function. [2, 3, 6, 9, 27, 60, 90, 120, 55, 46]"
   ]
  },
  {
   "cell_type": "code",
   "execution_count": 42,
   "id": "b206d043-6295-4241-96fb-94fd6f3f8198",
   "metadata": {},
   "outputs": [],
   "source": [
    "b=[2,3,6,9,27,60,90,120,55,46]"
   ]
  },
  {
   "cell_type": "code",
   "execution_count": 47,
   "id": "3da7fb4a-fd70-4330-9bed-3909716468ea",
   "metadata": {},
   "outputs": [
    {
     "data": {
      "text/plain": [
       "[6, 60, 90, 120]"
      ]
     },
     "execution_count": 47,
     "metadata": {},
     "output_type": "execute_result"
    }
   ],
   "source": [
    "list(filter(lambda a:a%2==0 and a%3==0,b))"
   ]
  },
  {
   "cell_type": "markdown",
   "id": "78b786c6-eb72-461f-8582-e16876abf727",
   "metadata": {},
   "source": [
    "Q6. Write a python program to find palindromes in the given list of strings using lambda and filter function.['python', 'php', 'aba', 'radar', 'level']"
   ]
  },
  {
   "cell_type": "code",
   "execution_count": 48,
   "id": "3d2a3677-6394-4f40-b3a7-0e444f834e78",
   "metadata": {},
   "outputs": [
    {
     "data": {
      "text/plain": [
       "1"
      ]
     },
     "execution_count": 48,
     "metadata": {},
     "output_type": "execute_result"
    }
   ],
   "source": [
    "palindromes=lambda a: a\n",
    "palindromes(1)"
   ]
  },
  {
   "cell_type": "code",
   "execution_count": null,
   "id": "d7c75fa8-0926-4175-b687-1e732d00d945",
   "metadata": {},
   "outputs": [],
   "source": [
    "palindromes=lambda a: a\n"
   ]
  },
  {
   "cell_type": "code",
   "execution_count": 51,
   "id": "cd7bd3a1-6b00-4e0e-86ef-6d8b9ae7e455",
   "metadata": {},
   "outputs": [
    {
     "data": {
      "text/plain": [
       "'mohit'"
      ]
     },
     "execution_count": 51,
     "metadata": {},
     "output_type": "execute_result"
    }
   ],
   "source": [
    "a=('mohit')\n",
    "a"
   ]
  },
  {
   "cell_type": "code",
   "execution_count": 52,
   "id": "c25f0406-f21b-4a0e-a265-f079ad47a872",
   "metadata": {},
   "outputs": [
    {
     "data": {
      "text/plain": [
       "'tihom'"
      ]
     },
     "execution_count": 52,
     "metadata": {},
     "output_type": "execute_result"
    }
   ],
   "source": [
    "a[::-1]"
   ]
  },
  {
   "cell_type": "code",
   "execution_count": 72,
   "id": "ca393b3f-2770-411d-ae4b-200bbc549f3d",
   "metadata": {},
   "outputs": [
    {
     "data": {
      "text/plain": [
       "False"
      ]
     },
     "execution_count": 72,
     "metadata": {},
     "output_type": "execute_result"
    }
   ],
   "source": [
    "palindromes=lambda a: a==a[::-1]\n",
    "palindromes(list_)"
   ]
  },
  {
   "cell_type": "code",
   "execution_count": 71,
   "id": "4adbbfa9-6663-4097-8d87-d1b916560280",
   "metadata": {},
   "outputs": [
    {
     "data": {
      "text/plain": [
       "['python', 'php', 'aba', 'radar']"
      ]
     },
     "execution_count": 71,
     "metadata": {},
     "output_type": "execute_result"
    }
   ],
   "source": [
    "b=['python', 'php', 'aba', 'radar', 'level']\n",
    "list_=b[-5:-1]\n",
    "list_"
   ]
  },
  {
   "cell_type": "code",
   "execution_count": 69,
   "id": "d72c112f-6263-4c47-8f88-38f05729dd2c",
   "metadata": {},
   "outputs": [
    {
     "data": {
      "text/plain": [
       "[1, 2, 3]"
      ]
     },
     "execution_count": 69,
     "metadata": {},
     "output_type": "execute_result"
    }
   ],
   "source": [
    "a=[1,2,3,4]\n",
    "b=a[-4:-1]\n",
    "b"
   ]
  },
  {
   "cell_type": "code",
   "execution_count": 73,
   "id": "effef4b7-bfb0-461d-8c36-41b618582e27",
   "metadata": {},
   "outputs": [
    {
     "name": "stdout",
     "output_type": "stream",
     "text": [
      "[None, 'php', 'aba', 'radar', 'level']\n"
     ]
    },
    {
     "data": {
      "text/plain": [
       "['php', 'aba', 'radar', 'level']"
      ]
     },
     "execution_count": 73,
     "metadata": {},
     "output_type": "execute_result"
    }
   ],
   "source": [
    "input_list = ['python', 'php', 'aba', 'radar', 'level']\n",
    "# lambda\n",
    "palin = lambda x:x if x == x[::-1] else None\n",
    "ans = []\n",
    "for i in input_list:\n",
    "    ans.append(palin(i))\n",
    "print(ans)\n",
    "# filter\n",
    "\n",
    "list(filter(lambda x:x == x[::-1],input_list))"
   ]
  },
  {
   "cell_type": "code",
   "execution_count": null,
   "id": "9e911524-d6a9-470c-8e3c-b96367e11d3c",
   "metadata": {},
   "outputs": [],
   "source": []
  }
 ],
 "metadata": {
  "kernelspec": {
   "display_name": "Python 3 (ipykernel)",
   "language": "python",
   "name": "python3"
  },
  "language_info": {
   "codemirror_mode": {
    "name": "ipython",
    "version": 3
   },
   "file_extension": ".py",
   "mimetype": "text/x-python",
   "name": "python",
   "nbconvert_exporter": "python",
   "pygments_lexer": "ipython3",
   "version": "3.10.8"
  }
 },
 "nbformat": 4,
 "nbformat_minor": 5
}
