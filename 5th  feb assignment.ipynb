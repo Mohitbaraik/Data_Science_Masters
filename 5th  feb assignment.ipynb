{
 "cells": [
  {
   "cell_type": "markdown",
   "id": "4917edca-9820-41d7-9efe-c11894f0bf40",
   "metadata": {},
   "source": [
    "Q1. Explain Class and Object with respect to Object-Oriented Programming. Give a suitable example."
   ]
  },
  {
   "cell_type": "markdown",
   "id": "9344963b-9f37-41ae-bf47-a03c1e3acb78",
   "metadata": {},
   "source": [
    " ans-The class basically is the blueprint which contains methods and instance variables and the object is associated with the class by using object we can access the methods of the respected class the object is anything which is having some properties and behaviours\n",
    "for an example bellow is the code in which i have created one simple class and also created object of thet class"
   ]
  },
  {
   "cell_type": "code",
   "execution_count": 1,
   "id": "1e9d5a4f-e8ba-44de-b06f-a9e27496fd41",
   "metadata": {},
   "outputs": [],
   "source": [
    "class mohit:\n",
    "    def msg(self):\n",
    "        print(\"welcome to data science\")\n"
   ]
  },
  {
   "cell_type": "code",
   "execution_count": 2,
   "id": "68e3f853-fec0-409b-93f2-522d2882a638",
   "metadata": {},
   "outputs": [],
   "source": [
    "a=mohit()"
   ]
  },
  {
   "cell_type": "code",
   "execution_count": 3,
   "id": "b3110571-9007-40e5-b48e-d2fb75fd2d24",
   "metadata": {},
   "outputs": [
    {
     "name": "stdout",
     "output_type": "stream",
     "text": [
      "welcome to data science\n"
     ]
    }
   ],
   "source": [
    "a.msg()"
   ]
  },
  {
   "cell_type": "markdown",
   "id": "271426cf-2cca-44da-b5a4-99561852dfeb",
   "metadata": {},
   "source": [
    "Q2. Name the four pillars of OOPs."
   ]
  },
  {
   "cell_type": "markdown",
   "id": "859d307d-9574-46a2-9246-8229ca728902",
   "metadata": {},
   "source": [
    "ans-Inheritance\n",
    "Polymorphism\n",
    "Abstraction\n",
    "Encapsulation"
   ]
  },
  {
   "cell_type": "markdown",
   "id": "c75b9625-db8f-462b-82fb-e8c0eb96d8db",
   "metadata": {},
   "source": [
    "Q3. Explain why the init() function is used. Give a suitable example."
   ]
  },
  {
   "cell_type": "markdown",
   "id": "eeffa37f-b959-44b6-a2e2-6b867b5293ea",
   "metadata": {},
   "source": [
    "ans -while creating an object of a perticular class if we want to pass some of the variables with the oject and also want to access them separately then we need to define a constructor fo that perticular class init() is the constructor that takes values from the object and pass them tho the instance variables So that whenever we want to access them we can access them with a respective variable name"
   ]
  },
  {
   "cell_type": "code",
   "execution_count": 15,
   "id": "9f3271a9-720f-4f1d-a36c-1a68bc9e6c5a",
   "metadata": {},
   "outputs": [],
   "source": [
    "class mohit:\n",
    "    def __init__(self,name,phone):\n",
    "        self.name=name\n",
    "        self.phone=phone\n",
    "    def msg(self):\n",
    "        print(f'name_{self.name}')\n",
    "        print(f'phone no.{self.phone}')\n",
    "              "
   ]
  },
  {
   "cell_type": "code",
   "execution_count": 16,
   "id": "747cd222-9ddb-4a6b-b19f-04ba13726115",
   "metadata": {},
   "outputs": [],
   "source": [
    "a=mohit('rahul',9964)"
   ]
  },
  {
   "cell_type": "code",
   "execution_count": 17,
   "id": "a676733a-50da-48c8-93bc-507618805c01",
   "metadata": {},
   "outputs": [
    {
     "name": "stdout",
     "output_type": "stream",
     "text": [
      "name_rahul\n",
      "phone no.9964\n"
     ]
    }
   ],
   "source": [
    "a.msg()"
   ]
  },
  {
   "cell_type": "markdown",
   "id": "d2b10727-e8ed-4113-97b9-c4ee1bf8fdd5",
   "metadata": {},
   "source": [
    "Q4. Why self is used in OOPs?"
   ]
  },
  {
   "cell_type": "markdown",
   "id": "cc961f14-37f8-4fe9-a33b-cfff02a4d0b2",
   "metadata": {},
   "source": [
    "ans-the self is used to mention that the perticular method belongs to the same class we can use any word instead of self just we have to pass that same word to the method also"
   ]
  },
  {
   "cell_type": "markdown",
   "id": "eb5f3590-668d-4293-a235-13a219a90a9e",
   "metadata": {},
   "source": [
    "Q5. What is inheritance? Give an example for each type of inheritance."
   ]
  },
  {
   "cell_type": "markdown",
   "id": "c3b87faa-a930-49bf-9f56-2cac8c57a35e",
   "metadata": {},
   "source": [
    " ans-If a child class is able to access all the methods and instance variables of parent class then it can be defifines as the inheritance."
   ]
  },
  {
   "cell_type": "markdown",
   "id": "5d186c02-e730-42d6-ab3a-aface38431ea",
   "metadata": {},
   "source": [
    "type of inheritance"
   ]
  },
  {
   "cell_type": "code",
   "execution_count": 1,
   "id": "0d811124-ca6d-4937-b53e-015a371702cd",
   "metadata": {},
   "outputs": [],
   "source": [
    "#Single level inheritance\n",
    " \n",
    "class TheClass1:\n",
    "    def fun1(self):\n",
    "        print(\"The Parent Class\")\n",
    "\n",
    "class TheClass2(TheClass1):\n",
    "    def fun2(self):\n",
    "        print(\"The Child Class\")"
   ]
  },
  {
   "cell_type": "code",
   "execution_count": 2,
   "id": "edb6538e-03c1-4ee6-90b6-5f3a20dc255f",
   "metadata": {},
   "outputs": [
    {
     "name": "stdout",
     "output_type": "stream",
     "text": [
      "The Parent Class\n",
      "The Child Class\n"
     ]
    }
   ],
   "source": [
    "obj1 = TheClass2()\n",
    "obj2 = TheClass1()\n",
    "obj1.fun1()\n",
    "obj1.fun2()"
   ]
  },
  {
   "cell_type": "code",
   "execution_count": 4,
   "id": "b97a5d5a-8a1a-403a-9183-6e07437d8592",
   "metadata": {},
   "outputs": [],
   "source": [
    "#multiple inheritance"
   ]
  },
  {
   "cell_type": "code",
   "execution_count": 5,
   "id": "da4fec3e-991e-4003-a485-862e3687fabd",
   "metadata": {},
   "outputs": [],
   "source": [
    "class TheClass1:\n",
    "    def fun1(self):\n",
    "        print(\"The Parent Class\")\n",
    "\n",
    "class TheClass2:\n",
    "    def fun2(self):\n",
    "        print(\"The Parent Class\")\n",
    "        \n",
    "class TheClass3(TheClass1,TheClass2):\n",
    "    def fun3(self):\n",
    "        print(\"The Child Class\")"
   ]
  },
  {
   "cell_type": "code",
   "execution_count": 6,
   "id": "8ac00eee-4103-4c2b-9551-e9da92d29528",
   "metadata": {},
   "outputs": [
    {
     "name": "stdout",
     "output_type": "stream",
     "text": [
      "The Parent Class\n",
      "The Parent Class\n"
     ]
    }
   ],
   "source": [
    "obj = TheClass3()\n",
    "obj.fun1()\n",
    "obj.fun2()"
   ]
  },
  {
   "cell_type": "code",
   "execution_count": 7,
   "id": "9c13cb19-7360-430a-920e-e95c0e2cbbeb",
   "metadata": {},
   "outputs": [],
   "source": [
    "#Multilevel Inheritance\n",
    "class TheClass1:\n",
    "    def fun1(self):\n",
    "        print(\"The Parent Class\")\n",
    "\n",
    "class TheClass2(TheClass1):\n",
    "    def fun2(self):\n",
    "        print(\"The child 1 Class\")\n",
    "        \n",
    "class TheClass3(TheClass2):\n",
    "    def fun3(self):\n",
    "        print(\"The Child 2 Class\")"
   ]
  },
  {
   "cell_type": "code",
   "execution_count": 8,
   "id": "5f4edf2b-5541-452c-aa68-36948837635a",
   "metadata": {},
   "outputs": [
    {
     "name": "stdout",
     "output_type": "stream",
     "text": [
      "The Parent Class\n",
      "The child 1 Class\n",
      "The Parent Class\n"
     ]
    }
   ],
   "source": [
    "obj = TheClass3()\n",
    "obj1 = TheClass2()\n",
    "obj.fun1()\n",
    "obj.fun2()\n",
    "obj1.fun1()"
   ]
  },
  {
   "cell_type": "code",
   "execution_count": 9,
   "id": "71a2700e-9361-4b0d-a0c6-a0ae7cb0b5ea",
   "metadata": {},
   "outputs": [],
   "source": [
    "#Hierarchical Inheritance\n",
    "class TheClass1:\n",
    "    def fun1(self):\n",
    "        print(\"The Parent Class\")\n",
    "\n",
    "class TheClass2(TheClass1):\n",
    "    def fun2(self):\n",
    "        print(\"The child 1 Class\")\n",
    "        \n",
    "class TheClass3(TheClass1):\n",
    "    def fun3(self):\n",
    "        print(\"The Child 2 Class\")"
   ]
  },
  {
   "cell_type": "code",
   "execution_count": 10,
   "id": "c8f0323d-28df-44cb-a5d4-7b5160f5c2b0",
   "metadata": {},
   "outputs": [
    {
     "name": "stdout",
     "output_type": "stream",
     "text": [
      "The Parent Class\n",
      "The child 1 Class\n"
     ]
    }
   ],
   "source": [
    "obj5 = TheClass3()\n",
    "obj6 = TheClass2()\n",
    "obj5.fun1()\n",
    "obj6.fun2()"
   ]
  },
  {
   "cell_type": "code",
   "execution_count": null,
   "id": "a45d4d3e-57fb-4aa6-bea1-b87d1c6739a9",
   "metadata": {},
   "outputs": [],
   "source": []
  }
 ],
 "metadata": {
  "kernelspec": {
   "display_name": "Python 3 (ipykernel)",
   "language": "python",
   "name": "python3"
  },
  "language_info": {
   "codemirror_mode": {
    "name": "ipython",
    "version": 3
   },
   "file_extension": ".py",
   "mimetype": "text/x-python",
   "name": "python",
   "nbconvert_exporter": "python",
   "pygments_lexer": "ipython3",
   "version": "3.10.8"
  }
 },
 "nbformat": 4,
 "nbformat_minor": 5
}
