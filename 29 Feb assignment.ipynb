{
 "cells": [
  {
   "cell_type": "code",
   "execution_count": 1,
   "id": "dd3a4e15-98f1-4b47-8071-d4f895e11ef5",
   "metadata": {},
   "outputs": [],
   "source": [
    "#Q1. What are the characteristics of the tuples? Is tuple immutable?"
   ]
  },
  {
   "cell_type": "markdown",
   "id": "bdc78ed7-d6e2-4584-8e5e-1fb5406b8fe4",
   "metadata": {},
   "source": [
    "ans-indexing ,ordered, immutable,it caotain duplicate items "
   ]
  },
  {
   "cell_type": "code",
   "execution_count": 2,
   "id": "66728faa-5b42-4e04-a2c4-169acde6635a",
   "metadata": {},
   "outputs": [],
   "source": [
    "#Q2. What are the two tuple methods in python? Give an example of each method. Give a reason why \n",
    "#tuples have only two in-built methods as compared to Lists."
   ]
  },
  {
   "cell_type": "markdown",
   "id": "e88b3737-c9e0-4e98-959f-958eba94e0ac",
   "metadata": {},
   "source": [
    "ans-in list we can change the values but in tuple we can't therefor we can't do operation like pop append...\n",
    "\n",
    "​"
   ]
  },
  {
   "cell_type": "code",
   "execution_count": 4,
   "id": "5b8dc656-1bc1-4b0a-9445-9162d61f1bb8",
   "metadata": {},
   "outputs": [
    {
     "name": "stdout",
     "output_type": "stream",
     "text": [
      "2\n",
      "0\n"
     ]
    }
   ],
   "source": [
    "#in case of tuple we can do like count and indexing\n",
    "a=(2,2,4,5,6,7)\n",
    "print(a.count(2))\n",
    "print(a.index(2))"
   ]
  },
  {
   "cell_type": "markdown",
   "id": "d35a250a-f7ce-46da-b482-c9032e631def",
   "metadata": {},
   "source": [
    "###Q3.  Which collection datatypes in python do not allow duplicate items? Write a code using a set to remove \n",
    "duplicates from the given list.\n",
    "\n",
    "\n",
    "List = [1, 1, 1, 2, 1, 3, 1, 4, 2, 1, 2, 2, 2, 3, 2, 4, 3, 1, 3, 2, 3, 3, 3, 4, 4, 1, 4, 2, 4, 3, 4, 4]"
   ]
  },
  {
   "cell_type": "markdown",
   "id": "b5688951-6b52-4cdc-b981-21dd448df83d",
   "metadata": {},
   "source": [
    "ans-set data type in python do not allow duplicate items"
   ]
  },
  {
   "cell_type": "code",
   "execution_count": 7,
   "id": "92a37fd6-fb8d-4b97-b4de-98ad7172fd54",
   "metadata": {},
   "outputs": [],
   "source": [
    "L = [1, 1, 1, 2, 1, 3, 1, 4, 2, 1, 2, 2, 2, 3, 2, 4, 3, 1, 3, 2, 3, 3, 3, 4, 4, 1, 4, 2, 4, 3, 4, 4]"
   ]
  },
  {
   "cell_type": "code",
   "execution_count": 8,
   "id": "2f64b160-85a5-4d3d-bec7-f17d778eb2e0",
   "metadata": {},
   "outputs": [
    {
     "data": {
      "text/plain": [
       "[1, 2, 3, 4]"
      ]
     },
     "execution_count": 8,
     "metadata": {},
     "output_type": "execute_result"
    }
   ],
   "source": [
    "a=list(set(L))\n",
    "a"
   ]
  },
  {
   "cell_type": "markdown",
   "id": "48ec847f-c3bb-4508-9344-0b18eb5b8fcb",
   "metadata": {},
   "source": [
    "Q4. Explain the difference between the union() and update() methods for a set. Give an example of \n",
    "each method."
   ]
  },
  {
   "cell_type": "markdown",
   "id": "31443064-9289-429d-a636-e00347e37f49",
   "metadata": {},
   "source": [
    "ans- Both do the same thing that is adding the two or more set but measure difference is union form a new set where as update add a items in \n",
    "existing set"
   ]
  },
  {
   "cell_type": "code",
   "execution_count": 12,
   "id": "07bfd65f-1a40-423c-97a4-d30055d919af",
   "metadata": {},
   "outputs": [
    {
     "name": "stdout",
     "output_type": "stream",
     "text": [
      "{2, 4, 5, 6, 8, 9}\n",
      "None\n"
     ]
    },
    {
     "data": {
      "text/plain": [
       "{2, 4, 5, 6, 8, 9}"
      ]
     },
     "execution_count": 12,
     "metadata": {},
     "output_type": "execute_result"
    }
   ],
   "source": [
    "a={2,4,5,6}\n",
    "b={8,9}\n",
    "c=print(a.union(b))\n",
    "d=print(a.update(b))\n",
    "c\n",
    "a"
   ]
  },
  {
   "cell_type": "markdown",
   "id": "2b6c05a9-ea59-45d2-8395-838dc728c1cc",
   "metadata": {},
   "source": [
    "Q5. What is a dictionary? Give an example. Also, state whether a dictionary is ordered or unordered"
   ]
  },
  {
   "cell_type": "markdown",
   "id": "27b73865-83d2-45ca-8bcf-15754ddc33ba",
   "metadata": {},
   "source": [
    "ans-dictionary is a combination of key value pair ,eg-{a:apple} , dictionary is ordered"
   ]
  },
  {
   "cell_type": "markdown",
   "id": "48f79e2a-995f-49ff-b048-633e3f26eeaf",
   "metadata": {},
   "source": [
    "Q6. Can we create a nested dictionary? If so, please give an example by creating a simple one-level \n",
    "nested dictionary."
   ]
  },
  {
   "cell_type": "code",
   "execution_count": 15,
   "id": "2b09fc08-d79e-46ae-881f-2c7fa3a27353",
   "metadata": {},
   "outputs": [
    {
     "data": {
      "text/plain": [
       "{'a': 'apple', 'b': '{ball:red}'}"
      ]
     },
     "execution_count": 15,
     "metadata": {},
     "output_type": "execute_result"
    }
   ],
   "source": [
    "#ans-yes we can create a nested dictionary\n",
    "eg={\"a\":\"apple\",\"b\":\"{ball:red}\"}\n",
    "eg"
   ]
  },
  {
   "cell_type": "code",
   "execution_count": 16,
   "id": "023a84fb-5870-42d9-bb5c-b61f800e24db",
   "metadata": {},
   "outputs": [
    {
     "data": {
      "text/plain": [
       "dict"
      ]
     },
     "execution_count": 16,
     "metadata": {},
     "output_type": "execute_result"
    }
   ],
   "source": [
    "type(eg)"
   ]
  },
  {
   "cell_type": "code",
   "execution_count": 17,
   "id": "297c2b16-a194-4e3b-8a3c-7a0a7aa5b38b",
   "metadata": {},
   "outputs": [
    {
     "data": {
      "text/plain": [
       "{'name': 'Adam',\n",
       " 'surname': 'warlock',\n",
       " 'Address': {'city': 'LA', 'country': 'usa'}}"
      ]
     },
     "execution_count": 17,
     "metadata": {},
     "output_type": "execute_result"
    }
   ],
   "source": [
    "dictionary = {'name':'Adam',\"surname\" : \"warlock\",'Address':{'city':'LA','country':'usa'}}\n",
    "dictionary"
   ]
  },
  {
   "cell_type": "code",
   "execution_count": 18,
   "id": "ecc1af33-6d11-4da8-9875-21ce841f7388",
   "metadata": {},
   "outputs": [
    {
     "data": {
      "text/plain": [
       "dict"
      ]
     },
     "execution_count": 18,
     "metadata": {},
     "output_type": "execute_result"
    }
   ],
   "source": [
    "type(dictionary)"
   ]
  },
  {
   "cell_type": "markdown",
   "id": "01269b37-1de6-49f9-a2d1-7014f98d1fc9",
   "metadata": {},
   "source": [
    "Q7. Using setdefault() method, create key named topics in the given dictionary and also add the value of \n",
    "the key as this list ['Python', 'Machine Learning’, 'Deep Learning']\n",
    "\n",
    "\n",
    "dict1 = {'language' : 'Python', 'course': 'Data Science Masters'}"
   ]
  },
  {
   "cell_type": "code",
   "execution_count": 19,
   "id": "c49cf997-c56a-44cd-bbe9-9f33be27f730",
   "metadata": {},
   "outputs": [],
   "source": [
    "dict1 = {'language' : 'Python', 'course': 'Data Science Masters'}"
   ]
  },
  {
   "cell_type": "code",
   "execution_count": 21,
   "id": "5a4d63e1-e388-4bc7-9021-896c7cc2a544",
   "metadata": {},
   "outputs": [
    {
     "data": {
      "text/plain": [
       "{'language': 'Python',\n",
       " 'course': 'Data Science Masters',\n",
       " 'topics': ['Python', 'Machine Learning', 'Deep learning']}"
      ]
     },
     "execution_count": 21,
     "metadata": {},
     "output_type": "execute_result"
    }
   ],
   "source": [
    "dict1.setdefault(\"topics\", [\"Python\", \"Machine Learning\", \"Deep learning\"])\n",
    "dict1"
   ]
  },
  {
   "cell_type": "markdown",
   "id": "9976990b-bb9a-4c41-a869-e12c69207c2f",
   "metadata": {},
   "source": [
    "Q8. What are the three view objects in dictionaries? Use the three in-built methods in python to display \n",
    "these three view objects for the given dictionary.\n",
    "\n",
    "\n",
    "dict1 = {'Sport': 'Cricket' , 'Teams': ['India', 'Australia', 'England', 'South Africa', 'Sri Lanka', 'New Zealand']}"
   ]
  },
  {
   "cell_type": "code",
   "execution_count": 24,
   "id": "925aa493-6962-480e-8e90-32596a9b6d95",
   "metadata": {},
   "outputs": [
    {
     "name": "stdout",
     "output_type": "stream",
     "text": [
      "dict_keys(['Sport', 'Teams'])\n",
      "dict_values(['Cricket', ['India', 'Australia', 'England', 'South Africa', 'Sri Lanka', 'New Zealand']])\n",
      "dict_items([('Sport', 'Cricket'), ('Teams', ['India', 'Australia', 'England', 'South Africa', 'Sri Lanka', 'New Zealand'])])\n"
     ]
    }
   ],
   "source": [
    "#ans=three view object are keys ,values,items\n",
    "dict1 = {'Sport': 'Cricket' , 'Teams': ['India', 'Australia', 'England', 'South Africa', 'Sri Lanka', 'New Zealand']}\n",
    "print(dict1.keys())\n",
    "print(dict1.values())\n",
    "print(dict1.items())"
   ]
  },
  {
   "cell_type": "code",
   "execution_count": null,
   "id": "753e5803-ac53-4b31-9825-d1c3e145afff",
   "metadata": {},
   "outputs": [],
   "source": []
  }
 ],
 "metadata": {
  "kernelspec": {
   "display_name": "Python 3 (ipykernel)",
   "language": "python",
   "name": "python3"
  },
  "language_info": {
   "codemirror_mode": {
    "name": "ipython",
    "version": 3
   },
   "file_extension": ".py",
   "mimetype": "text/x-python",
   "name": "python",
   "nbconvert_exporter": "python",
   "pygments_lexer": "ipython3",
   "version": "3.10.8"
  }
 },
 "nbformat": 4,
 "nbformat_minor": 5
}
